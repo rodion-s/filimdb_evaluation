{
 "cells": [
  {
   "cell_type": "markdown",
   "id": "be4fd8f2",
   "metadata": {},
   "source": [
    "# Теоретическая часть"
   ]
  },
  {
   "cell_type": "markdown",
   "id": "a09fca94",
   "metadata": {},
   "source": [
    "- a) Чему равна вероятность P(vi d | d cj ∈ ∈ ) встретить i-ое слово из словаря в случайном\n",
    "документе класса cj?\n",
    "b) Вывести P(d=(k1\n",
    ",k2\n",
    ",...,kM) | d cj ∈ ) – вероятность того, что случайный документ d,\n",
    "принадлежащий классу cj, будет состоять из k1\n",
    ",k2\n",
    ",...,kM вхождений слов v1\n",
    ",v2\n",
    ",...,vM? Для\n",
    "вывода использовать “наивное” предположение о независимости признаков.\n",
    "c) Вывести вероятность P(cj | d), что данный документ принадлежит классу cj. Для вывода\n",
    "использовать формулу Байеса.\n",
    "d) Какой класс cj будет будет выдан для документа d классификатором, если предположить,\n",
    "что P(cj) и P(d | cj) заданы? Как можно оценить вероятность ошибки?\n"
   ]
  },
  {
   "cell_type": "code",
   "execution_count": null,
   "id": "44a92811",
   "metadata": {},
   "outputs": [],
   "source": []
  }
 ],
 "metadata": {
  "kernelspec": {
   "display_name": "Python 3 (ipykernel)",
   "language": "python",
   "name": "python3"
  },
  "language_info": {
   "codemirror_mode": {
    "name": "ipython",
    "version": 3
   },
   "file_extension": ".py",
   "mimetype": "text/x-python",
   "name": "python",
   "nbconvert_exporter": "python",
   "pygments_lexer": "ipython3",
   "version": "3.9.12"
  }
 },
 "nbformat": 4,
 "nbformat_minor": 5
}
